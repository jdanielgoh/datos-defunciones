{
 "cells": [
  {
   "cell_type": "code",
   "execution_count": 32,
   "id": "3f7bc24e",
   "metadata": {},
   "outputs": [],
   "source": [
    "import pandas as pd \n",
    "import numpy as np"
   ]
  },
  {
   "cell_type": "code",
   "execution_count": 2,
   "id": "9fb56da5",
   "metadata": {},
   "outputs": [],
   "source": [
    "from simpledbf import Dbf5\n"
   ]
  },
  {
   "cell_type": "code",
   "execution_count": 84,
   "id": "d75f44d1",
   "metadata": {},
   "outputs": [],
   "source": [
    "catminde = Dbf5(\"defunciones_base_datos_2021_dbf/CATMINDE.dbf\",codec=\"latin-1\")\n",
    "catminde = catminde.to_dataframe()\n",
    "dic_catminde = catminde.set_index(\"CVE\").DESCRIP.to_dict()"
   ]
  },
  {
   "cell_type": "code",
   "execution_count": 86,
   "id": "6d968b4d",
   "metadata": {},
   "outputs": [
    {
     "data": {
      "text/html": [
       "<div>\n",
       "<style scoped>\n",
       "    .dataframe tbody tr th:only-of-type {\n",
       "        vertical-align: middle;\n",
       "    }\n",
       "\n",
       "    .dataframe tbody tr th {\n",
       "        vertical-align: top;\n",
       "    }\n",
       "\n",
       "    .dataframe thead th {\n",
       "        text-align: right;\n",
       "    }\n",
       "</style>\n",
       "<table border=\"1\" class=\"dataframe\">\n",
       "  <thead>\n",
       "    <tr style=\"text-align: right;\">\n",
       "      <th></th>\n",
       "      <th>CVE</th>\n",
       "      <th>DESCRIP</th>\n",
       "    </tr>\n",
       "  </thead>\n",
       "  <tbody>\n",
       "    <tr>\n",
       "      <th>0</th>\n",
       "      <td>A010</td>\n",
       "      <td>Fiebre tifoidea</td>\n",
       "    </tr>\n",
       "    <tr>\n",
       "      <th>1</th>\n",
       "      <td>A014</td>\n",
       "      <td>Fiebre paratifoidea, no especificada</td>\n",
       "    </tr>\n",
       "    <tr>\n",
       "      <th>2</th>\n",
       "      <td>A020</td>\n",
       "      <td>Enteritis debida a Salmonella</td>\n",
       "    </tr>\n",
       "    <tr>\n",
       "      <th>3</th>\n",
       "      <td>A021</td>\n",
       "      <td>Sepsis debida a Salmonella</td>\n",
       "    </tr>\n",
       "    <tr>\n",
       "      <th>4</th>\n",
       "      <td>A029</td>\n",
       "      <td>Infección debida a Salmonella, no especificada</td>\n",
       "    </tr>\n",
       "    <tr>\n",
       "      <th>...</th>\n",
       "      <td>...</td>\n",
       "      <td>...</td>\n",
       "    </tr>\n",
       "    <tr>\n",
       "      <th>3984</th>\n",
       "      <td>Y859</td>\n",
       "      <td>Secuelas de otros accidentes de transporte, y ...</td>\n",
       "    </tr>\n",
       "    <tr>\n",
       "      <th>3985</th>\n",
       "      <td>Y86X</td>\n",
       "      <td>Secuelas de otros accidentes</td>\n",
       "    </tr>\n",
       "    <tr>\n",
       "      <th>3986</th>\n",
       "      <td>Y870</td>\n",
       "      <td>Secuelas de lesiones autoinfligidas</td>\n",
       "    </tr>\n",
       "    <tr>\n",
       "      <th>3987</th>\n",
       "      <td>Y880</td>\n",
       "      <td>Secuelas de efectos adversos causados por drog...</td>\n",
       "    </tr>\n",
       "    <tr>\n",
       "      <th>3988</th>\n",
       "      <td>Y883</td>\n",
       "      <td>Secuelas de procedimientos médicos y quirúrgic...</td>\n",
       "    </tr>\n",
       "  </tbody>\n",
       "</table>\n",
       "<p>3989 rows × 2 columns</p>\n",
       "</div>"
      ],
      "text/plain": [
       "       CVE                                            DESCRIP\n",
       "0     A010                                    Fiebre tifoidea\n",
       "1     A014               Fiebre paratifoidea, no especificada\n",
       "2     A020                      Enteritis debida a Salmonella\n",
       "3     A021                         Sepsis debida a Salmonella\n",
       "4     A029     Infección debida a Salmonella, no especificada\n",
       "...    ...                                                ...\n",
       "3984  Y859  Secuelas de otros accidentes de transporte, y ...\n",
       "3985  Y86X                       Secuelas de otros accidentes\n",
       "3986  Y870                Secuelas de lesiones autoinfligidas\n",
       "3987  Y880  Secuelas de efectos adversos causados por drog...\n",
       "3988  Y883  Secuelas de procedimientos médicos y quirúrgic...\n",
       "\n",
       "[3989 rows x 2 columns]"
      ]
     },
     "execution_count": 86,
     "metadata": {},
     "output_type": "execute_result"
    }
   ],
   "source": [
    "catminde"
   ]
  },
  {
   "cell_type": "code",
   "execution_count": 3,
   "id": "5049d694",
   "metadata": {},
   "outputs": [],
   "source": [
    "dbf = Dbf5(\"defunciones_base_datos_2021_dbf/defun21.dbf\")\n",
    "df = dbf.to_dataframe()\n",
    "\n",
    "# ENTIDAD; MUNICIPIO; SEXO; CAUSA; EDAD\n",
    "df = df[[\"ENT_OCURR\",\"MUN_OCURR\",\"SEXO\",\"CAUSA_DEF\",\"DIA_NACIM\",\"MES_NACIM\",\"ANIO_NACIM\",\"DIA_OCURR\",\"MES_OCURR\",\"ANIO_OCUR\",\"EDAD_AGRU\"]]\n"
   ]
  },
  {
   "cell_type": "code",
   "execution_count": 6,
   "id": "65b5fbc1",
   "metadata": {},
   "outputs": [],
   "source": []
  },
  {
   "cell_type": "code",
   "execution_count": 25,
   "id": "1ff0e009",
   "metadata": {},
   "outputs": [],
   "source": [
    "df_fecha_incompleta = df[df.apply(lambda x : 99 in x[[\"DIA_NACIM\",\"MES_NACIM\",\"DIA_OCURR\",\"MES_OCURR\"]].values or 9999 in x[[\"ANIO_NACIM\",\"ANIO_OCUR\"]].values, axis=1)]\n",
    "df_fecha_completa = df[df.apply(lambda x : 99 in x[[\"DIA_NACIM\",\"MES_NACIM\",\"DIA_OCURR\",\"MES_OCURR\"]].values or 9999 in x[[\"ANIO_NACIM\",\"ANIO_OCUR\"]].values, axis=1).apply(lambda x : x==False)].reset_index().drop(\"index\",axis=1)\n",
    "\n"
   ]
  },
  {
   "cell_type": "code",
   "execution_count": null,
   "id": "4da14b6a",
   "metadata": {},
   "outputs": [],
   "source": []
  },
  {
   "cell_type": "code",
   "execution_count": null,
   "id": "b37455db",
   "metadata": {},
   "outputs": [],
   "source": []
  },
  {
   "cell_type": "code",
   "execution_count": 41,
   "id": "598e803b",
   "metadata": {},
   "outputs": [],
   "source": [
    "\n",
    "\n",
    "\n",
    "df_fecha_completa[\"FECHA_NACIMIENTO\"] = df_fecha_completa.apply(lambda x : str(x.DIA_NACIM)+ \"-\" +str(x.MES_NACIM)+ \"-\" +str(x.ANIO_NACIM),axis=1) \n",
    "    \n",
    "df_fecha_completa[\"FECHA_OCURRENCIA\"] = df_fecha_completa.apply(lambda x : str(x.DIA_OCURR)+ \"-\" +str(x.MES_OCURR)+ \"-\" +str(x.ANIO_OCUR),axis=1) \n",
    " \n",
    "df_fecha_completa[\"FECHA_NACIMIENTO\"] = pd.to_datetime(df_fecha_completa.FECHA_NACIMIENTO, format=\"%d-%m-%Y\")\n",
    "df_fecha_completa[\"FECHA_OCURRENCIA\"] = pd.to_datetime(df_fecha_completa.FECHA_OCURRENCIA, format=\"%d-%m-%Y\")\n"
   ]
  },
  {
   "cell_type": "code",
   "execution_count": 43,
   "id": "fc37acfe",
   "metadata": {},
   "outputs": [],
   "source": [
    "df_fecha_completa[\"DELTA_DIAS\"] = df_fecha_completa.FECHA_OCURRENCIA -  df_fecha_completa.FECHA_NACIMIENTO"
   ]
  },
  {
   "cell_type": "code",
   "execution_count": 44,
   "id": "ff0ae517",
   "metadata": {},
   "outputs": [],
   "source": [
    "df_fecha_completa[\"EDAD_ANIOS\"] = df_fecha_completa.DELTA_DIAS/np.timedelta64(1, 'Y')"
   ]
  },
  {
   "cell_type": "code",
   "execution_count": 133,
   "id": "2c17b15e",
   "metadata": {},
   "outputs": [
    {
     "name": "stderr",
     "output_type": "stream",
     "text": [
      "<ipython-input-133-099c6972e96b>:2: SettingWithCopyWarning: \n",
      "A value is trying to be set on a copy of a slice from a DataFrame.\n",
      "Try using .loc[row_indexer,col_indexer] = value instead\n",
      "\n",
      "See the caveats in the documentation: https://pandas.pydata.org/pandas-docs/stable/user_guide/indexing.html#returning-a-view-versus-a-copy\n",
      "  data[\"EDAD\"] = data.EDAD_ANIOS.apply(int)\n",
      "<ipython-input-133-099c6972e96b>:3: SettingWithCopyWarning: \n",
      "A value is trying to be set on a copy of a slice from a DataFrame.\n",
      "Try using .loc[row_indexer,col_indexer] = value instead\n",
      "\n",
      "See the caveats in the documentation: https://pandas.pydata.org/pandas-docs/stable/user_guide/indexing.html#returning-a-view-versus-a-copy\n",
      "  data[\"CVEGEO\"] = data.apply(lambda x : x.ENT_OCURR + x.MUN_OCURR, axis=1)\n"
     ]
    }
   ],
   "source": [
    "data = df_fecha_completa[df_fecha_completa.EDAD_ANIOS<18]\n",
    "data[\"EDAD\"] = data.EDAD_ANIOS.apply(int)\n",
    "data[\"CVEGEO\"] = data.apply(lambda x : x.ENT_OCURR + x.MUN_OCURR, axis=1)"
   ]
  },
  {
   "cell_type": "code",
   "execution_count": 119,
   "id": "77b9c4da",
   "metadata": {},
   "outputs": [],
   "source": [
    "data_acumulada = data.groupby([\"EDAD\",\"SEXO\",\"CAUSA_DEF\"]).size().reset_index()"
   ]
  },
  {
   "cell_type": "code",
   "execution_count": 134,
   "id": "cb7a0f0c",
   "metadata": {},
   "outputs": [],
   "source": [
    "data_acumulada_nacional = data_acumulada.pivot([\"EDAD\",\"CAUSA_DEF\"],\"SEXO\",0)"
   ]
  },
  {
   "cell_type": "code",
   "execution_count": 158,
   "id": "62a284ed",
   "metadata": {},
   "outputs": [],
   "source": [
    "ef = data_acumulada_nacional.loc[17].sort_values(by=2,na_position='first').reset_index()"
   ]
  },
  {
   "cell_type": "code",
   "execution_count": 159,
   "id": "7e72cf22",
   "metadata": {},
   "outputs": [
    {
     "data": {
      "text/plain": [
       "0                          Enteritis debida a Salmonella\n",
       "1      Otras gastroenteritis y colitis de origen infe...\n",
       "2                               Fiebre de las trincheras\n",
       "3                     Encefalitis viral, no especificada\n",
       "4                          Encefalitis debida a varicela\n",
       "                             ...                        \n",
       "429                   Leucemia linfoblástica aguda [LLA]\n",
       "430    Agresión con disparo de otras armas de fuego, ...\n",
       "431    Persona lesionada en accidente de tránsito, de...\n",
       "432    Lesión autoinfligida intencionalmente por ahor...\n",
       "433                         COVID-19, virus identificado\n",
       "Name: CAUSA_DEF, Length: 434, dtype: object"
      ]
     },
     "execution_count": 159,
     "metadata": {},
     "output_type": "execute_result"
    }
   ],
   "source": [
    "ef.CAUSA_DEF.map(dic_catminde)"
   ]
  },
  {
   "cell_type": "code",
   "execution_count": 155,
   "id": "f615af94",
   "metadata": {},
   "outputs": [
    {
     "data": {
      "text/html": [
       "<div>\n",
       "<style scoped>\n",
       "    .dataframe tbody tr th:only-of-type {\n",
       "        vertical-align: middle;\n",
       "    }\n",
       "\n",
       "    .dataframe tbody tr th {\n",
       "        vertical-align: top;\n",
       "    }\n",
       "\n",
       "    .dataframe thead th {\n",
       "        text-align: right;\n",
       "    }\n",
       "</style>\n",
       "<table border=\"1\" class=\"dataframe\">\n",
       "  <thead>\n",
       "    <tr style=\"text-align: right;\">\n",
       "      <th>SEXO</th>\n",
       "      <th>CAUSA_DEF</th>\n",
       "      <th>1</th>\n",
       "      <th>2</th>\n",
       "      <th>9</th>\n",
       "    </tr>\n",
       "  </thead>\n",
       "  <tbody>\n",
       "    <tr>\n",
       "      <th>0</th>\n",
       "      <td>A090</td>\n",
       "      <td>NaN</td>\n",
       "      <td>1.0</td>\n",
       "      <td>NaN</td>\n",
       "    </tr>\n",
       "    <tr>\n",
       "      <th>1</th>\n",
       "      <td>A178</td>\n",
       "      <td>NaN</td>\n",
       "      <td>1.0</td>\n",
       "      <td>NaN</td>\n",
       "    </tr>\n",
       "    <tr>\n",
       "      <th>2</th>\n",
       "      <td>A410</td>\n",
       "      <td>NaN</td>\n",
       "      <td>1.0</td>\n",
       "      <td>NaN</td>\n",
       "    </tr>\n",
       "    <tr>\n",
       "      <th>3</th>\n",
       "      <td>A689</td>\n",
       "      <td>NaN</td>\n",
       "      <td>1.0</td>\n",
       "      <td>NaN</td>\n",
       "    </tr>\n",
       "    <tr>\n",
       "      <th>4</th>\n",
       "      <td>B159</td>\n",
       "      <td>NaN</td>\n",
       "      <td>1.0</td>\n",
       "      <td>NaN</td>\n",
       "    </tr>\n",
       "    <tr>\n",
       "      <th>...</th>\n",
       "      <td>...</td>\n",
       "      <td>...</td>\n",
       "      <td>...</td>\n",
       "      <td>...</td>\n",
       "    </tr>\n",
       "    <tr>\n",
       "      <th>360</th>\n",
       "      <td>X599</td>\n",
       "      <td>32.0</td>\n",
       "      <td>11.0</td>\n",
       "      <td>NaN</td>\n",
       "    </tr>\n",
       "    <tr>\n",
       "      <th>361</th>\n",
       "      <td>C910</td>\n",
       "      <td>38.0</td>\n",
       "      <td>26.0</td>\n",
       "      <td>NaN</td>\n",
       "    </tr>\n",
       "    <tr>\n",
       "      <th>362</th>\n",
       "      <td>X700</td>\n",
       "      <td>53.0</td>\n",
       "      <td>37.0</td>\n",
       "      <td>NaN</td>\n",
       "    </tr>\n",
       "    <tr>\n",
       "      <th>363</th>\n",
       "      <td>V892</td>\n",
       "      <td>78.0</td>\n",
       "      <td>15.0</td>\n",
       "      <td>NaN</td>\n",
       "    </tr>\n",
       "    <tr>\n",
       "      <th>364</th>\n",
       "      <td>X954</td>\n",
       "      <td>114.0</td>\n",
       "      <td>16.0</td>\n",
       "      <td>NaN</td>\n",
       "    </tr>\n",
       "  </tbody>\n",
       "</table>\n",
       "<p>365 rows × 4 columns</p>\n",
       "</div>"
      ],
      "text/plain": [
       "SEXO CAUSA_DEF      1     2   9\n",
       "0         A090    NaN   1.0 NaN\n",
       "1         A178    NaN   1.0 NaN\n",
       "2         A410    NaN   1.0 NaN\n",
       "3         A689    NaN   1.0 NaN\n",
       "4         B159    NaN   1.0 NaN\n",
       "..         ...    ...   ...  ..\n",
       "360       X599   32.0  11.0 NaN\n",
       "361       C910   38.0  26.0 NaN\n",
       "362       X700   53.0  37.0 NaN\n",
       "363       V892   78.0  15.0 NaN\n",
       "364       X954  114.0  16.0 NaN\n",
       "\n",
       "[365 rows x 4 columns]"
      ]
     },
     "execution_count": 155,
     "metadata": {},
     "output_type": "execute_result"
    }
   ],
   "source": [
    "ef"
   ]
  },
  {
   "cell_type": "code",
   "execution_count": null,
   "id": "f4f6d482",
   "metadata": {},
   "outputs": [],
   "source": []
  },
  {
   "cell_type": "code",
   "execution_count": null,
   "id": "9a2459fd",
   "metadata": {},
   "outputs": [],
   "source": []
  },
  {
   "cell_type": "code",
   "execution_count": null,
   "id": "eb172620",
   "metadata": {},
   "outputs": [],
   "source": []
  },
  {
   "cell_type": "code",
   "execution_count": null,
   "id": "c54130b3",
   "metadata": {},
   "outputs": [],
   "source": []
  },
  {
   "cell_type": "code",
   "execution_count": null,
   "id": "7196d686",
   "metadata": {},
   "outputs": [],
   "source": []
  }
 ],
 "metadata": {
  "kernelspec": {
   "display_name": "Python 3",
   "language": "python",
   "name": "python3"
  },
  "language_info": {
   "codemirror_mode": {
    "name": "ipython",
    "version": 3
   },
   "file_extension": ".py",
   "mimetype": "text/x-python",
   "name": "python",
   "nbconvert_exporter": "python",
   "pygments_lexer": "ipython3",
   "version": "3.8.8"
  }
 },
 "nbformat": 4,
 "nbformat_minor": 5
}
